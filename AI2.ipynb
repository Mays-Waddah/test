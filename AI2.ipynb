{
  "nbformat": 4,
  "nbformat_minor": 0,
  "metadata": {
    "colab": {
      "provenance": [],
      "authorship_tag": "ABX9TyPimVrkBB66urg1gZuMV9vr",
      "include_colab_link": true
    },
    "kernelspec": {
      "name": "python3",
      "display_name": "Python 3"
    },
    "language_info": {
      "name": "python"
    }
  },
  "cells": [
    {
      "cell_type": "markdown",
      "metadata": {
        "id": "view-in-github",
        "colab_type": "text"
      },
      "source": [
        "<a href=\"https://colab.research.google.com/github/Mays-Waddah/test/blob/main/AI2.ipynb\" target=\"_parent\"><img src=\"https://colab.research.google.com/assets/colab-badge.svg\" alt=\"Open In Colab\"/></a>"
      ]
    },
    {
      "cell_type": "code",
      "execution_count": 1,
      "metadata": {
        "colab": {
          "base_uri": "https://localhost:8080/"
        },
        "id": "pG0Acufa3Ryt",
        "outputId": "49f46f0e-5135-4af2-93ea-fd9843645ac5"
      },
      "outputs": [
        {
          "output_type": "stream",
          "name": "stdout",
          "text": [
            "أول 5 صفوف من البيانات:\n",
            "      userName                       major  researchExp  industryExp  \\\n",
            "0       143saf         Systems and Control            0           18   \n",
            "1   7790ashish   Manufacturing Engineering            0            0   \n",
            "2         AB25  (MIS / MSIM / MSIS / MSIT)            0           66   \n",
            "3     abhijitg                         NaN            0            0   \n",
            "4  abhijitgang                         MIS            0            0   \n",
            "\n",
            "  specialization  toeflScore program                 department toeflEssay  \\\n",
            "0       Robotics       112.0      MS  Instrumentation & Control         26   \n",
            "1            NaN         NaN      MS                          0        NaN   \n",
            "2            NaN        94.0      MS       Computer Engineering         21   \n",
            "3            NaN         NaN     NaN                          0        NaN   \n",
            "4            NaN        81.0      MS                   computer        NaN   \n",
            "\n",
            "   internExp  ...  termAndYear  confPubs                    ugCollege gmatA  \\\n",
            "0        5.0  ...  Fall - 2015         0  Dharamsinh Desai University   NaN   \n",
            "1        0.0  ...  Fall - 2013         0                          NaN   NaN   \n",
            "2        0.0  ...  Fall - 2015         0                     IET DAVV   NaN   \n",
            "3        0.0  ...          NaN       NaN                          NaN   NaN   \n",
            "4        0.0  ...  Fall - 2011         0              Pune University   NaN   \n",
            "\n",
            "    cgpa  gmatQ cgpaScale gmatV                         univName  admit  \n",
            "0   8.50    NaN        10   NaN  Worcester Polytechnic Institute      1  \n",
            "1   0.00    NaN         0   NaN  Worcester Polytechnic Institute      1  \n",
            "2  78.28    NaN       100   NaN  Worcester Polytechnic Institute      1  \n",
            "3   0.00    NaN         0   NaN  Worcester Polytechnic Institute      1  \n",
            "4  57.00    NaN       100   NaN  Worcester Polytechnic Institute      1  \n",
            "\n",
            "[5 rows x 26 columns]\n",
            "\n",
            "معلومات عن الأعمدة وأنواع البيانات:\n",
            "<class 'pandas.core.frame.DataFrame'>\n",
            "RangeIndex: 53644 entries, 0 to 53643\n",
            "Data columns (total 26 columns):\n",
            " #   Column           Non-Null Count  Dtype  \n",
            "---  ------           --------------  -----  \n",
            " 0   userName         53644 non-null  object \n",
            " 1   major            53257 non-null  object \n",
            " 2   researchExp      53644 non-null  int64  \n",
            " 3   industryExp      53644 non-null  int64  \n",
            " 4   specialization   31949 non-null  object \n",
            " 5   toeflScore       49230 non-null  float64\n",
            " 6   program          53322 non-null  object \n",
            " 7   department       53643 non-null  object \n",
            " 8   toeflEssay       11874 non-null  object \n",
            " 9   internExp        53630 non-null  float64\n",
            " 10  greV             52388 non-null  float64\n",
            " 11  greQ             52424 non-null  float64\n",
            " 12  userProfileLink  53644 non-null  object \n",
            " 13  journalPubs      53322 non-null  object \n",
            " 14  greA             50786 non-null  float64\n",
            " 15  topperCgpa       53641 non-null  float64\n",
            " 16  termAndYear      53322 non-null  object \n",
            " 17  confPubs         53322 non-null  object \n",
            " 18  ugCollege        51366 non-null  object \n",
            " 19  gmatA            119 non-null    float64\n",
            " 20  cgpa             53644 non-null  float64\n",
            " 21  gmatQ            123 non-null    float64\n",
            " 22  cgpaScale        53644 non-null  int64  \n",
            " 23  gmatV            114 non-null    float64\n",
            " 24  univName         53644 non-null  object \n",
            " 25  admit            53644 non-null  int64  \n",
            "dtypes: float64(10), int64(4), object(12)\n",
            "memory usage: 10.6+ MB\n"
          ]
        }
      ],
      "source": [
        "import pandas as pd\n",
        "\n",
        "# قراءة ملف CSV\n",
        "df = pd.read_csv('university data.csv')\n",
        "\n",
        "# عرض أول 5 صفوف لفهم شكل البيانات\n",
        "print(\"أول 5 صفوف من البيانات:\")\n",
        "print(df.head())\n",
        "\n",
        "# عرض معلومات عن الأعمدة وأنواع البيانات والقيم المفقودة\n",
        "print(\"\\nمعلومات عن الأعمدة وأنواع البيانات:\")\n",
        "df.info()"
      ]
    },
    {
      "cell_type": "code",
      "source": [
        "!pip install scikit-fuzzy matplotlib numpy pandas"
      ],
      "metadata": {
        "colab": {
          "base_uri": "https://localhost:8080/"
        },
        "id": "FhxSKZP44ZzB",
        "outputId": "4c862f80-9452-4309-cfad-b3e495f59baa"
      },
      "execution_count": 2,
      "outputs": [
        {
          "output_type": "stream",
          "name": "stdout",
          "text": [
            "Collecting scikit-fuzzy\n",
            "  Downloading scikit_fuzzy-0.5.0-py2.py3-none-any.whl.metadata (2.6 kB)\n",
            "Requirement already satisfied: matplotlib in /usr/local/lib/python3.11/dist-packages (3.10.0)\n",
            "Requirement already satisfied: numpy in /usr/local/lib/python3.11/dist-packages (2.0.2)\n",
            "Requirement already satisfied: pandas in /usr/local/lib/python3.11/dist-packages (2.2.2)\n",
            "Requirement already satisfied: contourpy>=1.0.1 in /usr/local/lib/python3.11/dist-packages (from matplotlib) (1.3.2)\n",
            "Requirement already satisfied: cycler>=0.10 in /usr/local/lib/python3.11/dist-packages (from matplotlib) (0.12.1)\n",
            "Requirement already satisfied: fonttools>=4.22.0 in /usr/local/lib/python3.11/dist-packages (from matplotlib) (4.58.1)\n",
            "Requirement already satisfied: kiwisolver>=1.3.1 in /usr/local/lib/python3.11/dist-packages (from matplotlib) (1.4.8)\n",
            "Requirement already satisfied: packaging>=20.0 in /usr/local/lib/python3.11/dist-packages (from matplotlib) (24.2)\n",
            "Requirement already satisfied: pillow>=8 in /usr/local/lib/python3.11/dist-packages (from matplotlib) (11.2.1)\n",
            "Requirement already satisfied: pyparsing>=2.3.1 in /usr/local/lib/python3.11/dist-packages (from matplotlib) (3.2.3)\n",
            "Requirement already satisfied: python-dateutil>=2.7 in /usr/local/lib/python3.11/dist-packages (from matplotlib) (2.9.0.post0)\n",
            "Requirement already satisfied: pytz>=2020.1 in /usr/local/lib/python3.11/dist-packages (from pandas) (2025.2)\n",
            "Requirement already satisfied: tzdata>=2022.7 in /usr/local/lib/python3.11/dist-packages (from pandas) (2025.2)\n",
            "Requirement already satisfied: six>=1.5 in /usr/local/lib/python3.11/dist-packages (from python-dateutil>=2.7->matplotlib) (1.17.0)\n",
            "Downloading scikit_fuzzy-0.5.0-py2.py3-none-any.whl (920 kB)\n",
            "\u001b[2K   \u001b[90m━━━━━━━━━━━━━━━━━━━━━━━━━━━━━━━━━━━━━━━━\u001b[0m \u001b[32m920.8/920.8 kB\u001b[0m \u001b[31m11.3 MB/s\u001b[0m eta \u001b[36m0:00:00\u001b[0m\n",
            "\u001b[?25hInstalling collected packages: scikit-fuzzy\n",
            "Successfully installed scikit-fuzzy-0.5.0\n"
          ]
        }
      ]
    },
    {
      "cell_type": "code",
      "source": [
        "import pandas as pd\n",
        "import numpy as np\n",
        "\n",
        "# Assuming 'university data.csv' is uploaded to Colab's session storage\n",
        "df = pd.read_csv('university data.csv')\n",
        "\n",
        "# تنظيف البيانات وتوحيد CGPA (إذا لزم الأمر)\n",
        "# يمكن أن يكون CGPA على مقياس 10 أو 100 أو 4.0. سنقوم بتوحيده إلى 100 إذا كانت cgpaScale موجودة ومختلفة.\n",
        "def normalize_cgpa(row):\n",
        "    if row['cgpaScale'] == 0: # Handle cases where cgpaScale is 0 to avoid division by zero\n",
        "        return 0\n",
        "    return (row['cgpa'] / row['cgpaScale']) * 100\n",
        "\n",
        "# Apply normalization, handling potential NaN or invalid values\n",
        "df['normalized_cgpa'] = df.apply(normalize_cgpa, axis=1)\n",
        "df['normalized_cgpa'].replace([np.inf, -np.inf], np.nan, inplace=True)\n",
        "df['normalized_cgpa'].fillna(df['normalized_cgpa'].mean(), inplace=True) # Fill NaNs for safety\n",
        "\n",
        "# قم بتنظيف toeflScore و researchExp من القيم المفقودة أو غير الصحيحة\n",
        "df['toeflScore'].fillna(df['toeflScore'].mean(), inplace=True)\n",
        "df['researchExp'].fillna(df['researchExp'].mode()[0], inplace=True) # mode for int, mean for float\n",
        "\n",
        "# يمكنك طباعة إحصائيات لمساعدتك في تحديد النطاقات بدقة\n",
        "print(\"\\nإحصائيات المدخلات المختارة:\")\n",
        "print(df[['normalized_cgpa', 'toeflScore', 'researchExp']].describe())"
      ],
      "metadata": {
        "colab": {
          "base_uri": "https://localhost:8080/"
        },
        "id": "meYIE9iT4gIu",
        "outputId": "20da91b4-8158-4470-a9f5-9b0e67042f24"
      },
      "execution_count": 3,
      "outputs": [
        {
          "output_type": "stream",
          "name": "stdout",
          "text": [
            "\n",
            "إحصائيات المدخلات المختارة:\n",
            "       normalized_cgpa    toeflScore   researchExp\n",
            "count     53644.000000  53644.000000  53644.000000\n",
            "mean         73.625277    109.558826      0.339535\n",
            "std          34.445443     34.344806      2.602942\n",
            "min           0.000000      0.000000      0.000000\n",
            "25%          68.200000    101.000000      0.000000\n",
            "50%          76.000000    107.000000      0.000000\n",
            "75%          83.600000    111.000000      0.000000\n",
            "max        1825.000000   1350.000000     53.000000\n"
          ]
        },
        {
          "output_type": "stream",
          "name": "stderr",
          "text": [
            "<ipython-input-3-3348082644>:16: FutureWarning: A value is trying to be set on a copy of a DataFrame or Series through chained assignment using an inplace method.\n",
            "The behavior will change in pandas 3.0. This inplace method will never work because the intermediate object on which we are setting values always behaves as a copy.\n",
            "\n",
            "For example, when doing 'df[col].method(value, inplace=True)', try using 'df.method({col: value}, inplace=True)' or df[col] = df[col].method(value) instead, to perform the operation inplace on the original object.\n",
            "\n",
            "\n",
            "  df['normalized_cgpa'].replace([np.inf, -np.inf], np.nan, inplace=True)\n",
            "<ipython-input-3-3348082644>:17: FutureWarning: A value is trying to be set on a copy of a DataFrame or Series through chained assignment using an inplace method.\n",
            "The behavior will change in pandas 3.0. This inplace method will never work because the intermediate object on which we are setting values always behaves as a copy.\n",
            "\n",
            "For example, when doing 'df[col].method(value, inplace=True)', try using 'df.method({col: value}, inplace=True)' or df[col] = df[col].method(value) instead, to perform the operation inplace on the original object.\n",
            "\n",
            "\n",
            "  df['normalized_cgpa'].fillna(df['normalized_cgpa'].mean(), inplace=True) # Fill NaNs for safety\n",
            "<ipython-input-3-3348082644>:20: FutureWarning: A value is trying to be set on a copy of a DataFrame or Series through chained assignment using an inplace method.\n",
            "The behavior will change in pandas 3.0. This inplace method will never work because the intermediate object on which we are setting values always behaves as a copy.\n",
            "\n",
            "For example, when doing 'df[col].method(value, inplace=True)', try using 'df.method({col: value}, inplace=True)' or df[col] = df[col].method(value) instead, to perform the operation inplace on the original object.\n",
            "\n",
            "\n",
            "  df['toeflScore'].fillna(df['toeflScore'].mean(), inplace=True)\n",
            "<ipython-input-3-3348082644>:21: FutureWarning: A value is trying to be set on a copy of a DataFrame or Series through chained assignment using an inplace method.\n",
            "The behavior will change in pandas 3.0. This inplace method will never work because the intermediate object on which we are setting values always behaves as a copy.\n",
            "\n",
            "For example, when doing 'df[col].method(value, inplace=True)', try using 'df.method({col: value}, inplace=True)' or df[col] = df[col].method(value) instead, to perform the operation inplace on the original object.\n",
            "\n",
            "\n",
            "  df['researchExp'].fillna(df['researchExp'].mode()[0], inplace=True) # mode for int, mean for float\n"
          ]
        }
      ]
    },
    {
      "cell_type": "code",
      "source": [
        "import skfuzzy as fuzz\n",
        "from skfuzzy import control as ctrl\n",
        "import matplotlib.pyplot as plt\n",
        "\n",
        "# 1. تعريف المتغيرات الضبابية (Inputs and Output)\n",
        "# بناءً على النطاقات التي حددناها\n",
        "cgpa = ctrl.Antecedent(np.arange(0, 101, 1), 'cgpa')\n",
        "toeflScore = ctrl.Antecedent(np.arange(0, 121, 1), 'toeflScore')\n",
        "researchExp = ctrl.Antecedent(np.arange(0, 51, 1), 'researchExp')\n",
        "admission_likelihood = ctrl.Consequent(np.arange(0, 101, 1), 'admission_likelihood')\n",
        "\n",
        "# 2. تعريف دوال الانتماء (Membership Functions) - 5 مجموعات لكل\n",
        "# CGPA\n",
        "cgpa['very_low'] = fuzz.trimf(cgpa.universe, [0, 0, 40])\n",
        "cgpa['low'] = fuzz.trimf(cgpa.universe, [0, 40, 60])\n",
        "cgpa['medium'] = fuzz.trimf(cgpa.universe, [40, 60, 80])\n",
        "cgpa['high'] = fuzz.trimf(cgpa.universe, [60, 80, 100])\n",
        "cgpa['very_high'] = fuzz.trimf(cgpa.universe, [80, 100, 100])\n",
        "\n",
        "# TOEFL Score\n",
        "toeflScore['very_low'] = fuzz.trimf(toeflScore.universe, [0, 0, 70])\n",
        "toeflScore['low'] = fuzz.trimf(toeflScore.universe, [0, 70, 85])\n",
        "toeflScore['medium'] = fuzz.trimf(toeflScore.universe, [70, 85, 100])\n",
        "toeflScore['high'] = fuzz.trimf(toeflScore.universe, [85, 100, 115])\n",
        "toeflScore['very_high'] = fuzz.trimf(toeflScore.universe, [100, 120, 120])\n",
        "\n",
        "# Research Experience\n",
        "researchExp['none'] = fuzz.trimf(researchExp.universe, [0, 0, 10])\n",
        "researchExp['low'] = fuzz.trimf(researchExp.universe, [0, 10, 20])\n",
        "researchExp['medium'] = fuzz.trimf(researchExp.universe, [10, 20, 30])\n",
        "researchExp['high'] = fuzz.trimf(researchExp.universe, [20, 30, 40])\n",
        "researchExp['very_high'] = fuzz.trimf(researchExp.universe, [30, 50, 50])\n",
        "\n",
        "# Admission Likelihood (Output)\n",
        "admission_likelihood['very_low'] = fuzz.trimf(admission_likelihood.universe, [0, 0, 25])\n",
        "admission_likelihood['low'] = fuzz.trimf(admission_likelihood.universe, [0, 25, 50])\n",
        "admission_likelihood['medium'] = fuzz.trimf(admission_likelihood.universe, [25, 50, 75])\n",
        "admission_likelihood['high'] = fuzz.trimf(admission_likelihood.universe, [50, 75, 100])\n",
        "admission_likelihood['very_high'] = fuzz.trimf(admission_likelihood.universe, [75, 100, 100])\n",
        "\n",
        "# (اختياري) لرسم دوال الانتماء للتأكد منها\n",
        "# cgpa.view()\n",
        "# toeflScore.view()\n",
        "# researchExp.view()\n",
        "# admission_likelihood.view()\n",
        "# plt.show()\n",
        "\n",
        "# 3. تعريف القواعد (Rules)\n",
        "# بناءً على القواعد التي وضعناها يدوياً، مع إضافة المزيد لتغطية السيناريوهات\n",
        "rule1 = ctrl.Rule(cgpa['very_high'] & toeflScore['very_high'], admission_likelihood['very_high'])\n",
        "rule2 = ctrl.Rule(cgpa['low'] | toeflScore['low'], admission_likelihood['very_low'])\n",
        "rule3 = ctrl.Rule(cgpa['medium'] & researchExp['medium'], admission_likelihood['medium'])\n",
        "rule4 = ctrl.Rule(cgpa['high'] & researchExp['high'], admission_likelihood['high'])\n",
        "rule5 = ctrl.Rule(toeflScore['very_low'], admission_likelihood['very_low'])\n",
        "rule6 = ctrl.Rule(cgpa['very_high'] & researchExp['very_high'], admission_likelihood['very_high'])\n",
        "rule7 = ctrl.Rule(cgpa['low'] & toeflScore['medium'], admission_likelihood['low'])\n",
        "# أضف المزيد من القواعد هنا بناءً على تحليلك وفهمك لبياناتك\n",
        "\n",
        "# 4. بناء نظام التحكم الضبابي (Fuzzy Control System)\n",
        "admission_ctrl = ctrl.ControlSystem([rule1, rule2, rule3, rule4, rule5, rule6, rule7]) # أضف جميع القواعد\n",
        "admission_simulation = ctrl.ControlSystemSimulation(admission_ctrl)\n",
        "\n",
        "# 5. إدخال قيم الحالة الجديدة (المثال اليدوي الذي طبقناه)\n",
        "admission_simulation.input['cgpa'] = 70\n",
        "admission_simulation.input['toeflScore'] = 90\n",
        "admission_simulation.input['researchExp'] = 25\n",
        "\n",
        "# 6. حساب النتيجة (Compute)\n",
        "admission_simulation.compute()\n",
        "\n",
        "# 7. عرض النتيجة\n",
        "print(f\"Predicted Admission Likelihood: {admission_simulation.output['admission_likelihood']:.2f}\")\n",
        "\n",
        "# (اختياري) لعرض المخرجات الضبابية بعد الحساب\n",
        "# admission_likelihood.view(sim=admission_simulation)\n",
        "# plt.show()"
      ],
      "metadata": {
        "colab": {
          "base_uri": "https://localhost:8080/"
        },
        "id": "N6kQrx3P4hGT",
        "outputId": "75c4a8d1-f619-475f-8010-d9cf36e1f38c"
      },
      "execution_count": 4,
      "outputs": [
        {
          "output_type": "stream",
          "name": "stdout",
          "text": [
            "Predicted Admission Likelihood: 62.50\n"
          ]
        }
      ]
    }
  ]
}